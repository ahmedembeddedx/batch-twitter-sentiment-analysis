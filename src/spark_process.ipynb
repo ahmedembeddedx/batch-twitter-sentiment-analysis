{
 "cells": [
  {
   "cell_type": "markdown",
   "id": "0a2ed1d0",
   "metadata": {},
   "source": [
    "# Twitter Sentiment Analysis using Spark & Hadoop"
   ]
  },
  {
   "cell_type": "markdown",
   "id": "d3beba57",
   "metadata": {},
   "source": [
    "### Starting Hadoop Daemons"
   ]
  },
  {
   "cell_type": "code",
   "execution_count": 1,
   "id": "3112dc8a",
   "metadata": {},
   "outputs": [
    {
     "name": "stdout",
     "output_type": "stream",
     "text": [
      "WARNING: Attempting to start all Apache Hadoop daemons as ahmadabdullah in 10 seconds.\n",
      "WARNING: This is not a recommended production deployment configuration.\n",
      "WARNING: Use CTRL-C to abort.\n",
      "Starting namenodes on [localhost]\n",
      "Starting datanodes\n",
      "Starting secondary namenodes [Ahmads-MacBook-Air.local]\n",
      "2024-04-26 20:14:42,509 WARN util.NativeCodeLoader: Unable to load native-hadoop library for your platform... using builtin-java classes where applicable\n",
      "Starting resourcemanager\n",
      "Starting nodemanagers\n"
     ]
    }
   ],
   "source": [
    "!start-all.sh"
   ]
  },
  {
   "cell_type": "markdown",
   "id": "b6eb1ffe",
   "metadata": {},
   "source": [
    "### Necessary Libraries"
   ]
  },
  {
   "cell_type": "code",
   "execution_count": 6,
   "id": "972493c0",
   "metadata": {},
   "outputs": [],
   "source": [
    "from wordcloud import WordCloud\n",
    "from pyspark.sql import SparkSession\n",
    "from pyspark.sql.functions import regexp_replace, col, lower, explode\n",
    "from pyspark.ml.feature import CountVectorizer\n",
    "from pyspark.ml import Pipeline\n",
    "from pyspark.sql.types import DoubleType\n",
    "import matplotlib.pyplot as plt\n",
    "import pandas as pd\n",
    "import matplotlib.pyplot as plt\n",
    "from pyspark.ml.feature import Tokenizer"
   ]
  },
  {
   "cell_type": "markdown",
   "id": "39d6b142",
   "metadata": {},
   "source": [
    "### Spark Session"
   ]
  },
  {
   "cell_type": "code",
   "execution_count": 7,
   "id": "4a95e209",
   "metadata": {},
   "outputs": [
    {
     "name": "stderr",
     "output_type": "stream",
     "text": [
      "24/04/26 20:49:30 WARN Utils: Your hostname, Ahmads-MacBook-Air.local resolves to a loopback address: 127.0.0.1; using 192.168.0.103 instead (on interface en0)\n",
      "24/04/26 20:49:30 WARN Utils: Set SPARK_LOCAL_IP if you need to bind to another address\n",
      "Setting default log level to \"WARN\".\n",
      "To adjust logging level use sc.setLogLevel(newLevel). For SparkR, use setLogLevel(newLevel).\n",
      "24/04/26 20:49:30 WARN NativeCodeLoader: Unable to load native-hadoop library for your platform... using builtin-java classes where applicable\n"
     ]
    }
   ],
   "source": [
    "spark = SparkSession.builder \\\n",
    "    .appName(\"HadoopDataFetch\") \\\n",
    "    .config(\"spark.hadoop.fs.defaultFS\", \"hdfs://127.0.0.1:9000\") \\\n",
    "    .getOrCreate()"
   ]
  },
  {
   "cell_type": "markdown",
   "id": "ab0144d4",
   "metadata": {},
   "source": [
    "### Hadoop Cluster to Spark DataFrame"
   ]
  },
  {
   "cell_type": "code",
   "execution_count": 8,
   "id": "4acb25c6",
   "metadata": {},
   "outputs": [
    {
     "data": {
      "text/plain": [
       "['id',\n",
       " 'candidate',\n",
       " 'candidate_confidence',\n",
       " 'relevant_yn',\n",
       " 'relevant_yn_confidence',\n",
       " 'sentiment',\n",
       " 'sentiment_confidence',\n",
       " 'subject_matter',\n",
       " 'subject_matter_confidence',\n",
       " 'candidate_gold',\n",
       " 'name',\n",
       " 'relevant_yn_gold',\n",
       " 'retweet_count',\n",
       " 'sentiment_gold',\n",
       " 'subject_matter_gold',\n",
       " 'text',\n",
       " 'tweet_coord',\n",
       " 'tweet_created',\n",
       " 'tweet_id',\n",
       " 'tweet_location',\n",
       " 'user_timezone']"
      ]
     },
     "execution_count": 8,
     "metadata": {},
     "output_type": "execute_result"
    }
   ],
   "source": [
    "data_path = \"/user/ahmadabdullah/twitter/sentiment.csv\"\n",
    "\n",
    "df = spark.read.format(\"csv\").option(\"header\", \"true\").option(\"encoding\", \"utf-8\").load(data_path)\n",
    "\n",
    "df.columns"
   ]
  },
  {
   "cell_type": "code",
   "execution_count": 9,
   "id": "ece03a67",
   "metadata": {},
   "outputs": [
    {
     "name": "stdout",
     "output_type": "stream",
     "text": [
      "+---------+--------------------+--------------------+\n",
      "|sentiment|sentiment_confidence|                text|\n",
      "+---------+--------------------+--------------------+\n",
      "|  Neutral|              0.6578|RT @NancyLeeGrahn...|\n",
      "| Positive|              0.6333|RT @ScottWalker: ...|\n",
      "|  Neutral|              0.6629|RT @TJMShow: No m...|\n",
      "| Positive|                 1.0|RT @RobGeorge: Th...|\n",
      "| Positive|              0.7045|RT @DanScavino: #...|\n",
      "| Positive|              0.6332|\"RT @GregAbbott_T...|\n",
      "| Negative|              0.6761|RT @warriorwoman9...|\n",
      "|  Neutral|                 1.0|Going on #MSNBC L...|\n",
      "| Negative|              0.6889|Deer in the headl...|\n",
      "| Negative|              0.6778|RT @NancyOsborne1...|\n",
      "+---------+--------------------+--------------------+\n",
      "only showing top 10 rows\n",
      "\n"
     ]
    }
   ],
   "source": [
    "columns_to_keep = ['sentiment', 'sentiment_confidence', 'text']\n",
    "\n",
    "df = df[columns_to_keep]\n",
    "df.show(10)"
   ]
  },
  {
   "cell_type": "code",
   "execution_count": 10,
   "id": "21093afa",
   "metadata": {},
   "outputs": [],
   "source": [
    "df = df.withColumn(\"sentiment_confidence\", df[\"sentiment_confidence\"].cast(DoubleType()))"
   ]
  },
  {
   "cell_type": "code",
   "execution_count": 11,
   "id": "88539447",
   "metadata": {},
   "outputs": [
    {
     "name": "stdout",
     "output_type": "stream",
     "text": [
      "root\n",
      " |-- sentiment: string (nullable = true)\n",
      " |-- sentiment_confidence: double (nullable = true)\n",
      " |-- text: string (nullable = true)\n",
      "\n"
     ]
    }
   ],
   "source": [
    "df.printSchema()"
   ]
  },
  {
   "cell_type": "code",
   "execution_count": 12,
   "id": "355aaa6c",
   "metadata": {},
   "outputs": [
    {
     "data": {
      "text/plain": [
       "16032"
      ]
     },
     "execution_count": 12,
     "metadata": {},
     "output_type": "execute_result"
    }
   ],
   "source": [
    "df.count()"
   ]
  },
  {
   "cell_type": "markdown",
   "id": "80166860",
   "metadata": {},
   "source": [
    "### Dropping Nulls, Retweets & Duplicate"
   ]
  },
  {
   "cell_type": "code",
   "execution_count": 13,
   "id": "78f90339",
   "metadata": {},
   "outputs": [],
   "source": [
    "df = df.na.drop()\n",
    "df = df.dropDuplicates()"
   ]
  },
  {
   "cell_type": "code",
   "execution_count": 27,
   "id": "a704c5fa",
   "metadata": {},
   "outputs": [
    {
     "name": "stdout",
     "output_type": "stream",
     "text": [
      "+---------+--------------------+--------------------+\n",
      "|sentiment|sentiment_confidence|                text|\n",
      "+---------+--------------------+--------------------+\n",
      "|  Neutral|              0.3511|@Bipartisanism We...|\n",
      "| Negative|              0.6841|\"After #GOPDebate...|\n",
      "|  Neutral|                 1.0|#GOPDebate consta...|\n",
      "| Negative|              0.6517|\"@Krauthammer: \"\"...|\n",
      "| Negative|                 1.0|\"\"\"@RubinReport: ...|\n",
      "+---------+--------------------+--------------------+\n",
      "only showing top 5 rows\n",
      "\n"
     ]
    }
   ],
   "source": [
    "df = df.filter(~df['text'].startswith('RT'))\n",
    "df = df.filter(~df['text'].startswith('\"RT'))\n",
    "df.show(5)"
   ]
  },
  {
   "cell_type": "code",
   "execution_count": 28,
   "id": "8c3d3faa",
   "metadata": {},
   "outputs": [
    {
     "data": {
      "text/plain": [
       "6158"
      ]
     },
     "execution_count": 28,
     "metadata": {},
     "output_type": "execute_result"
    }
   ],
   "source": [
    "df.count()"
   ]
  },
  {
   "cell_type": "markdown",
   "id": "7abe33f6",
   "metadata": {},
   "source": [
    "### Plotting the Univariate Distribution of Sentiments"
   ]
  },
  {
   "cell_type": "code",
   "execution_count": 29,
   "id": "a485eb6a",
   "metadata": {
    "scrolled": false
   },
   "outputs": [
    {
     "data": {
      "image/png": "[encoded data removed]",
      "text/plain": [
       "<Figure size 800x500 with 1 Axes>"
      ]
     },
     "metadata": {},
     "output_type": "display_data"
    }
   ],
   "source": [
    "sentiment_counts = df.groupBy('sentiment').count()\n",
    "sentiment_counts_pd = sentiment_counts.toPandas()\n",
    "plt.figure(figsize=(8, 5))\n",
    "plt.bar(sentiment_counts_pd['sentiment'], sentiment_counts_pd['count'], color='skyblue')\n",
    "plt.xlabel('Sentiment')\n",
    "plt.ylabel('Count')\n",
    "plt.title('Sentiment Distribution')\n",
    "plt.show()"
   ]
  },
  {
   "cell_type": "markdown",
   "id": "7584b58a",
   "metadata": {},
   "source": [
    "### Text Cleaning"
   ]
  },
  {
   "cell_type": "code",
   "execution_count": 30,
   "id": "844796b7",
   "metadata": {},
   "outputs": [
    {
     "name": "stdout",
     "output_type": "stream",
     "text": [
      "+---------+--------------------+--------------------+\n",
      "|sentiment|sentiment_confidence|                text|\n",
      "+---------+--------------------+--------------------+\n",
      "|  Neutral|              0.3511|bipartisanism wel...|\n",
      "| Negative|              0.6841|after gopdebate t...|\n",
      "|  Neutral|                 1.0|gopdebate constan...|\n",
      "| Negative|              0.6517|krauthammer the r...|\n",
      "| Negative|                 1.0|rubinreport final...|\n",
      "+---------+--------------------+--------------------+\n",
      "only showing top 5 rows\n",
      "\n"
     ]
    }
   ],
   "source": [
    "characters = \"[^\\w\\s]\"\n",
    "\n",
    "df = df.withColumn(\"text\", regexp_replace(col(\"text\"), characters, \"\"))\n",
    "\n",
    "df = df.withColumn(\"text\", lower(col(\"text\")))\n",
    "\n",
    "df.show(5)"
   ]
  },
  {
   "cell_type": "markdown",
   "id": "c0d950af",
   "metadata": {},
   "source": [
    "### Tokenization"
   ]
  },
  {
   "cell_type": "code",
   "execution_count": 31,
   "id": "598496ba",
   "metadata": {
    "scrolled": false
   },
   "outputs": [
    {
     "name": "stderr",
     "output_type": "stream",
     "text": [
      "\r",
      "[Stage 55:>                                                         (0 + 1) / 1]\r",
      "\r",
      "                                                                                \r"
     ]
    },
    {
     "name": "stdout",
     "output_type": "stream",
     "text": [
      "+--------------------+--------------------+---------+\n",
      "|                text|            features|sentiment|\n",
      "+--------------------+--------------------+---------+\n",
      "|bipartisanism wel...|(12278,[0,1,4,33,...|  Neutral|\n",
      "|after gopdebate t...|(12278,[0,1,79,12...| Negative|\n",
      "|gopdebate constan...|(12278,[1,2,5,15,...|  Neutral|\n",
      "|krauthammer the r...|(12278,[0,1,6,7,1...| Negative|\n",
      "|rubinreport final...|(12278,[1,13,18,3...| Negative|\n",
      "|gopdebate johnkas...|(12278,[1,69,162,...| Negative|\n",
      "|steelhamster here...|(12278,[1,5,35,40...| Negative|\n",
      "|fox news was the ...|(12278,[0,1,2,4,6...|  Neutral|\n",
      "|fact checking is ...|(12278,[0,1,6,7,2...| Negative|\n",
      "|gopdebate got you...|(12278,[1,10,14,4...| Negative|\n",
      "|scientific studie...|(12278,[1,9,29,37...| Negative|\n",
      "|realdonaldtrump i...|(12278,[0,1,2,5,6...| Negative|\n",
      "|that foxnews is s...|(12278,[0,1,2,7,1...| Negative|\n",
      "|megyn kelly was a...|(12278,[0,1,5,10,...| Negative|\n",
      "|clear winner from...|(12278,[1,4,17,35...| Positive|\n",
      "|pretty sure i was...|(12278,[0,1,8,15,...| Negative|\n",
      "|donald trumps gop...|(12278,[1,9,15,62...| Negative|\n",
      "|balderdash is my ...|(12278,[1,7,16,36...| Negative|\n",
      "|glad to see that ...|(12278,[0,2,5,16,...| Positive|\n",
      "|gop debate early ...|(12278,[1,23,32,2...| Positive|\n",
      "+--------------------+--------------------+---------+\n",
      "only showing top 20 rows\n",
      "\n"
     ]
    }
   ],
   "source": [
    "tokenizer = Tokenizer(inputCol=\"text\", outputCol=\"words\")\n",
    "df = tokenizer.transform(df)\n",
    "\n",
    "cv = CountVectorizer(inputCol=\"words\", outputCol=\"features\")\n",
    "model = cv.fit(df)\n",
    "df = model.transform(df)\n",
    "\n",
    "df.select(\"text\", \"features\", \"sentiment\").show()"
   ]
  },
  {
   "cell_type": "code",
   "execution_count": 14,
   "id": "fbb2a86d",
   "metadata": {},
   "outputs": [
    {
     "ename": "ValueError",
     "evalue": "We need at least 1 word to plot a word cloud, got 0.",
     "output_type": "error",
     "traceback": [
      "\u001b[0;31m---------------------------------------------------------------------------\u001b[0m",
      "\u001b[0;31mValueError\u001b[0m                                Traceback (most recent call last)",
      "Cell \u001b[0;32mIn[14], line 9\u001b[0m\n\u001b[1;32m      6\u001b[0m negative_text \u001b[38;5;241m=\u001b[39m \u001b[38;5;124m\"\u001b[39m\u001b[38;5;124m \u001b[39m\u001b[38;5;124m\"\u001b[39m\u001b[38;5;241m.\u001b[39mjoin(negative_texts)\n\u001b[1;32m      7\u001b[0m neutral_text \u001b[38;5;241m=\u001b[39m \u001b[38;5;124m\"\u001b[39m\u001b[38;5;124m \u001b[39m\u001b[38;5;124m\"\u001b[39m\u001b[38;5;241m.\u001b[39mjoin(neutral_texts)\n\u001b[0;32m----> 9\u001b[0m positive_wordcloud \u001b[38;5;241m=\u001b[39m WordCloud(width\u001b[38;5;241m=\u001b[39m\u001b[38;5;241m800\u001b[39m, height\u001b[38;5;241m=\u001b[39m\u001b[38;5;241m800\u001b[39m, background_color\u001b[38;5;241m=\u001b[39m\u001b[38;5;124m'\u001b[39m\u001b[38;5;124mwhite\u001b[39m\u001b[38;5;124m'\u001b[39m, stopwords\u001b[38;5;241m=\u001b[39m\u001b[38;5;28;01mNone\u001b[39;00m, min_font_size\u001b[38;5;241m=\u001b[39m\u001b[38;5;241m10\u001b[39m)\u001b[38;5;241m.\u001b[39mgenerate(positive_text)\n\u001b[1;32m     10\u001b[0m negative_wordcloud \u001b[38;5;241m=\u001b[39m WordCloud(width\u001b[38;5;241m=\u001b[39m\u001b[38;5;241m800\u001b[39m, height\u001b[38;5;241m=\u001b[39m\u001b[38;5;241m800\u001b[39m, background_color\u001b[38;5;241m=\u001b[39m\u001b[38;5;124m'\u001b[39m\u001b[38;5;124mwhite\u001b[39m\u001b[38;5;124m'\u001b[39m, stopwords\u001b[38;5;241m=\u001b[39m\u001b[38;5;28;01mNone\u001b[39;00m, min_font_size\u001b[38;5;241m=\u001b[39m\u001b[38;5;241m10\u001b[39m)\u001b[38;5;241m.\u001b[39mgenerate(negative_text)\n\u001b[1;32m     11\u001b[0m neutral_wordcloud \u001b[38;5;241m=\u001b[39m WordCloud(width\u001b[38;5;241m=\u001b[39m\u001b[38;5;241m800\u001b[39m, height\u001b[38;5;241m=\u001b[39m\u001b[38;5;241m800\u001b[39m, background_color\u001b[38;5;241m=\u001b[39m\u001b[38;5;124m'\u001b[39m\u001b[38;5;124mwhite\u001b[39m\u001b[38;5;124m'\u001b[39m, stopwords\u001b[38;5;241m=\u001b[39m\u001b[38;5;28;01mNone\u001b[39;00m, min_font_size\u001b[38;5;241m=\u001b[39m\u001b[38;5;241m10\u001b[39m)\u001b[38;5;241m.\u001b[39mgenerate(neutral_text)\n",
      "File \u001b[0;32m~/anaconda3/lib/python3.11/site-packages/wordcloud/wordcloud.py:642\u001b[0m, in \u001b[0;36mWordCloud.generate\u001b[0;34m(self, text)\u001b[0m\n\u001b[1;32m    627\u001b[0m \u001b[38;5;28;01mdef\u001b[39;00m \u001b[38;5;21mgenerate\u001b[39m(\u001b[38;5;28mself\u001b[39m, text):\n\u001b[1;32m    628\u001b[0m \u001b[38;5;250m    \u001b[39m\u001b[38;5;124;03m\"\"\"Generate wordcloud from text.\u001b[39;00m\n\u001b[1;32m    629\u001b[0m \n\u001b[1;32m    630\u001b[0m \u001b[38;5;124;03m    The input \"text\" is expected to be a natural text. If you pass a sorted\u001b[39;00m\n\u001b[0;32m   (...)\u001b[0m\n\u001b[1;32m    640\u001b[0m \u001b[38;5;124;03m    self\u001b[39;00m\n\u001b[1;32m    641\u001b[0m \u001b[38;5;124;03m    \"\"\"\u001b[39;00m\n\u001b[0;32m--> 642\u001b[0m     \u001b[38;5;28;01mreturn\u001b[39;00m \u001b[38;5;28mself\u001b[39m\u001b[38;5;241m.\u001b[39mgenerate_from_text(text)\n",
      "File \u001b[0;32m~/anaconda3/lib/python3.11/site-packages/wordcloud/wordcloud.py:624\u001b[0m, in \u001b[0;36mWordCloud.generate_from_text\u001b[0;34m(self, text)\u001b[0m\n\u001b[1;32m    607\u001b[0m \u001b[38;5;250m\u001b[39m\u001b[38;5;124;03m\"\"\"Generate wordcloud from text.\u001b[39;00m\n\u001b[1;32m    608\u001b[0m \n\u001b[1;32m    609\u001b[0m \u001b[38;5;124;03mThe input \"text\" is expected to be a natural text. If you pass a sorted\u001b[39;00m\n\u001b[0;32m   (...)\u001b[0m\n\u001b[1;32m    621\u001b[0m \u001b[38;5;124;03mself\u001b[39;00m\n\u001b[1;32m    622\u001b[0m \u001b[38;5;124;03m\"\"\"\u001b[39;00m\n\u001b[1;32m    623\u001b[0m words \u001b[38;5;241m=\u001b[39m \u001b[38;5;28mself\u001b[39m\u001b[38;5;241m.\u001b[39mprocess_text(text)\n\u001b[0;32m--> 624\u001b[0m \u001b[38;5;28mself\u001b[39m\u001b[38;5;241m.\u001b[39mgenerate_from_frequencies(words)\n\u001b[1;32m    625\u001b[0m \u001b[38;5;28;01mreturn\u001b[39;00m \u001b[38;5;28mself\u001b[39m\n",
      "File \u001b[0;32m~/anaconda3/lib/python3.11/site-packages/wordcloud/wordcloud.py:410\u001b[0m, in \u001b[0;36mWordCloud.generate_from_frequencies\u001b[0;34m(self, frequencies, max_font_size)\u001b[0m\n\u001b[1;32m    408\u001b[0m frequencies \u001b[38;5;241m=\u001b[39m \u001b[38;5;28msorted\u001b[39m(frequencies\u001b[38;5;241m.\u001b[39mitems(), key\u001b[38;5;241m=\u001b[39mitemgetter(\u001b[38;5;241m1\u001b[39m), reverse\u001b[38;5;241m=\u001b[39m\u001b[38;5;28;01mTrue\u001b[39;00m)\n\u001b[1;32m    409\u001b[0m \u001b[38;5;28;01mif\u001b[39;00m \u001b[38;5;28mlen\u001b[39m(frequencies) \u001b[38;5;241m<\u001b[39m\u001b[38;5;241m=\u001b[39m \u001b[38;5;241m0\u001b[39m:\n\u001b[0;32m--> 410\u001b[0m     \u001b[38;5;28;01mraise\u001b[39;00m \u001b[38;5;167;01mValueError\u001b[39;00m(\u001b[38;5;124m\"\u001b[39m\u001b[38;5;124mWe need at least 1 word to plot a word cloud, \u001b[39m\u001b[38;5;124m\"\u001b[39m\n\u001b[1;32m    411\u001b[0m                      \u001b[38;5;124m\"\u001b[39m\u001b[38;5;124mgot \u001b[39m\u001b[38;5;132;01m%d\u001b[39;00m\u001b[38;5;124m.\u001b[39m\u001b[38;5;124m\"\u001b[39m \u001b[38;5;241m%\u001b[39m \u001b[38;5;28mlen\u001b[39m(frequencies))\n\u001b[1;32m    412\u001b[0m frequencies \u001b[38;5;241m=\u001b[39m frequencies[:\u001b[38;5;28mself\u001b[39m\u001b[38;5;241m.\u001b[39mmax_words]\n\u001b[1;32m    414\u001b[0m \u001b[38;5;66;03m# largest entry will be 1\u001b[39;00m\n",
      "\u001b[0;31mValueError\u001b[0m: We need at least 1 word to plot a word cloud, got 0."
     ]
    }
   ],
   "source": [
    "positive_texts = df.filter(df['sentiment'] == 'positive').select(\"text\").rdd.flatMap(lambda x: x).collect()\n",
    "negative_texts = df.filter(df['sentiment'] == 'negative').select(\"text\").rdd.flatMap(lambda x: x).collect()\n",
    "neutral_texts = df.filter(df['sentiment'] == 'neutral').select(\"text\").rdd.flatMap(lambda x: x).collect()\n",
    "\n",
    "positive_text = \" \".join(positive_texts)\n",
    "negative_text = \" \".join(negative_texts)\n",
    "neutral_text = \" \".join(neutral_texts)\n",
    "\n",
    "positive_wordcloud = WordCloud(width=800, height=800, background_color='white', stopwords=None, min_font_size=10).generate(positive_text)\n",
    "negative_wordcloud = WordCloud(width=800, height=800, background_color='white', stopwords=None, min_font_size=10).generate(negative_text)\n",
    "neutral_wordcloud = WordCloud(width=800, height=800, background_color='white', stopwords=None, min_font_size=10).generate(neutral_text)\n",
    "\n",
    "plt.figure(figsize=(8, 8), facecolor=None)\n",
    "plt.imshow(positive_wordcloud)\n",
    "plt.axis(\"off\")\n",
    "plt.tight_layout(pad=0)\n",
    "plt.title('Positive Sentiment Word Cloud')\n",
    "plt.show()\n",
    "\n",
    "plt.figure(figsize=(8, 8), facecolor=None)\n",
    "plt.imshow(negative_wordcloud)\n",
    "plt.axis(\"off\")\n",
    "plt.tight_layout(pad=0)\n",
    "plt.title('Negative Sentiment Word Cloud')\n",
    "plt.show()\n",
    "\n",
    "plt.figure(figsize=(8, 8), facecolor=None)\n",
    "plt.imshow(neutral_wordcloud)\n",
    "plt.axis(\"off\")\n",
    "plt.tight_layout(pad=0)\n",
    "plt.title('Neutral Sentiment Word Cloud')\n",
    "plt.show()"
   ]
  },
  {
   "cell_type": "code",
   "execution_count": null,
   "id": "9bbc844c",
   "metadata": {},
   "outputs": [],
   "source": []
  },
  {
   "cell_type": "code",
   "execution_count": null,
   "id": "bf0495a1",
   "metadata": {},
   "outputs": [],
   "source": []
  },
  {
   "cell_type": "code",
   "execution_count": 224,
   "id": "edf52a23",
   "metadata": {},
   "outputs": [],
   "source": [
    "spark.stop()"
   ]
  },
  {
   "cell_type": "code",
   "execution_count": 225,
   "id": "8b1e70de",
   "metadata": {},
   "outputs": [
    {
     "name": "stdout",
     "output_type": "stream",
     "text": [
      "WARNING: Stopping all Apache Hadoop daemons as ahmadabdullah in 10 seconds.\n",
      "WARNING: Use CTRL-C to abort.\n",
      "Stopping namenodes on [localhost]\n",
      "Stopping datanodes\n",
      "Stopping secondary namenodes [Ahmads-MacBook-Air.local]\n",
      "2024-04-26 18:15:43,161 WARN util.NativeCodeLoader: Unable to load native-hadoop library for your platform... using builtin-java classes where applicable\n",
      "Stopping nodemanagers\n",
      "localhost: WARNING: nodemanager did not stop gracefully after 5 seconds: Trying to kill with kill -9\n",
      "Stopping resourcemanager\n"
     ]
    }
   ],
   "source": [
    "!stop-all.sh"
   ]
  },
  {
   "cell_type": "code",
   "execution_count": null,
   "id": "1d3c2c80",
   "metadata": {},
   "outputs": [],
   "source": []
  }
 ],
 "metadata": {
  "kernelspec": {
   "display_name": "Python 3 (ipykernel)",
   "language": "python",
   "name": "python3"
  },
  "language_info": {
   "codemirror_mode": {
    "name": "ipython",
    "version": 3
   },
   "file_extension": ".py",
   "mimetype": "text/x-python",
   "name": "python",
   "nbconvert_exporter": "python",
   "pygments_lexer": "ipython3",
   "version": "3.11.5"
  }
 },
 "nbformat": 4,
 "nbformat_minor": 5
}
